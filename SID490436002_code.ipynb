{
 "cells": [
  {
   "cell_type": "markdown",
   "metadata": {
    "id": "KV-7KbKLUhw4"
   },
   "source": [
    "# Assignment 1"
   ]
  },
  {
   "cell_type": "markdown",
   "metadata": {
    "id": "TeFnyWQkUreZ"
   },
   "source": [
    "## Hardware and software specifications of the computer\n",
    "### Hardware\n",
    "\n",
    "\n",
    "*   MacBook Air (Retina, 13-inch, 2018)\n",
    "*   Processor: 1.6 GHz Intel Core i5\n",
    "*   Memory: 8 GB 2133 MHz LPDDR3\n",
    "\n",
    "### Software\n",
    "\n",
    "*   Google Colab \n",
    "*   Anaconda Navigator Jupyter Notebook\n"
   ]
  },
  {
   "cell_type": "markdown",
   "metadata": {
    "id": "0jEhXniWSv1n"
   },
   "source": [
    "## Step 1. Import libraries, load data and reshape data."
   ]
  },
  {
   "cell_type": "code",
   "execution_count": 1,
   "metadata": {
    "id": "Jn2kH2ewSv1n"
   },
   "outputs": [],
   "source": [
    "import h5py\n",
    "import numpy as np\n",
    "import time\n",
    "from tqdm import tqdm\n",
    "import matplotlib.pylab as pl\n",
    "import matplotlib.pyplot as plt\n",
    "import pandas as pd\n",
    "import math"
   ]
  },
  {
   "cell_type": "code",
   "execution_count": 2,
   "metadata": {
    "colab": {
     "base_uri": "https://localhost:8080/",
     "height": 51
    },
    "id": "omtgMsanSv1s",
    "outputId": "c0057dc0-ec6d-4ef0-ff08-363c3ba64977"
   },
   "outputs": [
    {
     "name": "stdout",
     "output_type": "stream",
     "text": [
      "(30000, 784) (30000,)\n",
      "(5000, 784) (2000,)\n"
     ]
    }
   ],
   "source": [
    "with h5py.File('./Input/train/images_training.h5','r') as H:\n",
    "    data_train = np.copy(H['datatrain'])\n",
    "with h5py.File('./Input/train/labels_training.h5','r') as H:\n",
    "    label_train = np.copy(H['labeltrain'])\n",
    "\n",
    "with h5py.File('./Input/test/images_testing.h5','r') as H:\n",
    "    data_test = np.copy(H['datatest'])\n",
    "with h5py.File('./Input/test/labels_testing_2000.h5','r') as H:\n",
    "    label_test = np.copy(H['labeltest'])\n",
    "\n",
    "# using H['datatest'], H['labeltest'] for test dataset.\n",
    "print(data_train.shape,label_train.shape)\n",
    "print(data_test.shape,label_test.shape)"
   ]
  },
  {
   "cell_type": "code",
   "execution_count": 3,
   "metadata": {
    "colab": {
     "base_uri": "https://localhost:8080/",
     "height": 51
    },
    "id": "DQS1YLi2Sv14",
    "outputId": "69f96af7-fb0a-4b70-b34f-0ed5b5e8dd2f"
   },
   "outputs": [
    {
     "name": "stdout",
     "output_type": "stream",
     "text": [
      "(30000, 784) (30000,)\n",
      "(2000, 784) (2000,)\n"
     ]
    }
   ],
   "source": [
    "data_test = data_test[0:2000, :]\n",
    "print(data_train.shape, label_train.shape)\n",
    "print(data_test.shape, label_test.shape)"
   ]
  },
  {
   "cell_type": "markdown",
   "metadata": {
    "id": "n7fSuzteSv18"
   },
   "source": [
    "## Step 2. Pre-process data and define functions."
   ]
  },
  {
   "cell_type": "markdown",
   "metadata": {
    "id": "k5-1hXx_Sv2O"
   },
   "source": [
    "### Validation"
   ]
  },
  {
   "cell_type": "code",
   "execution_count": 4,
   "metadata": {
    "id": "NBvFLSGTKaGN"
   },
   "outputs": [],
   "source": [
    "def split(test_ratio,X,label):\n",
    "    #Randomly arrange the sequence and assign the randomly assigned index to the train set and the validation set\n",
    "    shuffle_index = np.random.permutation(len(X))  \n",
    "    test_size = int(len(X)*test_ratio) \n",
    "    test_index = shuffle_index[:test_size]   \n",
    "    train_index = shuffle_index[test_size:] \n",
    "    X_train = X[train_index]  \n",
    "    Y_train = label[train_index]  \n",
    "    X_test = X[test_index]  \n",
    "    Y_test = label[test_index]   \n",
    "    return X_train,X_test,Y_train,Y_test"
   ]
  },
  {
   "cell_type": "code",
   "execution_count": 5,
   "metadata": {
    "id": "D0CLSbYz2x5I"
   },
   "outputs": [],
   "source": [
    "data_validation_train, data_validation_test, label_validation_train, label_validation_test = split(0.3,data_train,label_train) "
   ]
  },
  {
   "cell_type": "code",
   "execution_count": 6,
   "metadata": {
    "colab": {
     "base_uri": "https://localhost:8080/",
     "height": 34
    },
    "id": "ERQSGcz33mBY",
    "outputId": "2d37a2a6-c141-4d3a-be36-6d169320e2d2"
   },
   "outputs": [
    {
     "data": {
      "text/plain": [
       "(9000, 784)"
      ]
     },
     "execution_count": 6,
     "metadata": {},
     "output_type": "execute_result"
    }
   ],
   "source": [
    "data_validation_test.shape"
   ]
  },
  {
   "cell_type": "markdown",
   "metadata": {
    "id": "C8vyqaR6Sv2D"
   },
   "source": [
    "### SVD"
   ]
  },
  {
   "cell_type": "code",
   "execution_count": 7,
   "metadata": {
    "id": "MDZVimg_Sv2D"
   },
   "outputs": [],
   "source": [
    "def svd(x, n_components):\n",
    "    U, s, Vt = np.linalg.svd(x, full_matrices=False)\n",
    "    S = np.diag(s) # diagonal matrix\n",
    "    x_svd = U[0:U.shape[0], 0:n_components].dot(S[0:n_components, 0:n_components]).dot(Vt[0:n_components, 0:Vt.shape[1]])\n",
    "    return x_svd"
   ]
  },
  {
   "cell_type": "markdown",
   "metadata": {
    "id": "xegCeDZjSv2L"
   },
   "source": [
    "### PCA"
   ]
  },
  {
   "cell_type": "code",
   "execution_count": 8,
   "metadata": {
    "id": "StwXrYEOLVEn"
   },
   "outputs": [],
   "source": [
    "def pca(data,n):\n",
    "    #Averaging\n",
    "    row = data.shape[0]\n",
    "    dimension = data.shape[1]\n",
    "    avrs = np.array([np.mean(data[:,i]) for i in range(dimension)])\n",
    "    temp = []\n",
    "    temp = data - avrs #feature - avr\n",
    "    #calculate scatter matrix and its eigenvalue & eigenvector\n",
    "    scatter_matrix=np.dot(temp.T,temp)\n",
    "    #feature value and vector of cov #784, 784*784\n",
    "    feature_value,feature_vector = np.linalg.eig(scatter_matrix)\n",
    "    #choose n components which is Principal Components\n",
    "    pairs = [(np.abs(feature_value[i]), feature_vector[:,i]) for i in range(dimension)]\n",
    "    pairs.sort(reverse=True)\n",
    "    feature=np.array([ele[1] for ele in pairs[:n]])\n",
    "    #Converted into reduced dimensionality data\n",
    "    result = []\n",
    "    result = np.dot(temp,np.transpose(feature))\n",
    "    return feature,result"
   ]
  },
  {
   "cell_type": "code",
   "execution_count": 9,
   "metadata": {
    "id": "IFGEtHBrLVAb"
   },
   "outputs": [],
   "source": [
    "def pca_test(data,n):\n",
    "    #Use the test set to subtract the mean of the test set\n",
    "    #and then multiply the matrix obtained by the training set\n",
    "    row = data.shape[0]\n",
    "    dimension = data.shape[1]\n",
    "    avrs = np.array([np.mean(data[:,i]) for i in range(dimension)])\n",
    "    temp = []\n",
    "    temp = data - avrs #feature - avr\n",
    "    return  temp"
   ]
  },
  {
   "cell_type": "markdown",
   "metadata": {
    "id": "hrMg6yKdY6bN"
   },
   "source": [
    "### Normalization"
   ]
  },
  {
   "cell_type": "code",
   "execution_count": 10,
   "metadata": {
    "id": "A7FJ_1wSk8Oe"
   },
   "outputs": [],
   "source": [
    "def normalize(data):\n",
    "    data_normalize = (data - np.min(data)) / (np.max(data) - np.min(data))\n",
    "    return data_normalize"
   ]
  },
  {
   "cell_type": "markdown",
   "metadata": {
    "id": "PezJdmjZWPZN"
   },
   "source": [
    "### KNN"
   ]
  },
  {
   "cell_type": "code",
   "execution_count": 11,
   "metadata": {
    "id": "5R4oziRaSv2S"
   },
   "outputs": [],
   "source": [
    "def knn(X, label, K, X_q):\n",
    "    result = []\n",
    "    labelss = []\n",
    "    row = X.shape[0]\n",
    "    #calculate distance between train set and test set\n",
    "    diff = np.tile(X_q,(row,1)) - X\n",
    "    sqr = np.square(diff) \n",
    "    sqrsum = sqr.sum(axis=1)\n",
    "    dis = np.sqrt(sqrsum)\n",
    "    #sort distance\n",
    "    arg_ascending = np.argsort(dis)\n",
    "    #print(arg_ascending)\n",
    "    for n in range(K):\n",
    "        temp = label[arg_ascending[n]]\n",
    "        labelss.append(temp)\n",
    "    labels = max(labelss,key=labelss.count)\n",
    "    #print(label)\n",
    "    return labels\n",
    "#X: data_train\n",
    "#label: label_train\n",
    "#X_q: data_test"
   ]
  },
  {
   "cell_type": "markdown",
   "metadata": {
    "id": "jQ8FD1XuWaLH"
   },
   "source": [
    "### Naive Bayes"
   ]
  },
  {
   "cell_type": "code",
   "execution_count": 12,
   "metadata": {
    "id": "EZ2Qv7SJJ4Go"
   },
   "outputs": [],
   "source": [
    "class NaiveBayes(object):\n",
    "  def __init__(self):\n",
    "    self.A = 1    \n",
    "    self.K = 2\n",
    "\n",
    "  def find_min(self,train):\n",
    "    #find the minimum value of input set\n",
    "    new_data = []\n",
    "    for i in range(len(train)):\n",
    "      new_data.append(np.min(train[i]))\n",
    "    self.min = np.min(new_data)\n",
    "    return self.min\n",
    "\n",
    "  def predict(self,train,labels,test):\n",
    "    labels = list(labels)\n",
    "    row = train.shape[0]\n",
    "    #temp = list(temp)    \n",
    "    #prior prob of each class\n",
    "    self.P_prior = []\n",
    "    for i in np.unique(labels):\n",
    "      self.P_prior.append(np.log((labels.count(i)+self.A) / (row+self.K*self.A))  ) #10 classes\n",
    "    #add the absolute value in order to avoid negative value\n",
    "    temp = {}\n",
    "    extra = [abs(self.min)]*len(test)\n",
    "    for c in np.unique(labels): #set(y)\n",
    "      classes = []\n",
    "      for sample,label in zip(train,labels):\n",
    "        if label == c:\n",
    "            classes.append(sample)\n",
    "      temp[c] = classes + extra\n",
    "    #conditional prob\n",
    "    self.P = []\n",
    "    counts = np.array([np.array(temp[i]).sum(axis=0) for i in temp.keys()]) + self.A #The number of times that features appears in each class \n",
    "    self.P = np.log(counts / counts.sum(axis=1)[np.newaxis].T)\n",
    "    #post prob\n",
    "    arg = np.argmax([(self.P * y).sum(axis=1) + self.P_prior for y in test], axis=1)\n",
    "    return arg\n"
   ]
  },
  {
   "cell_type": "markdown",
   "metadata": {
    "id": "vK3usMa2WuPj"
   },
   "source": [
    "## Step 3. Run the best model with best hyperparameters(tuning hyerparameter will be shown in Reference)"
   ]
  },
  {
   "cell_type": "markdown",
   "metadata": {
    "id": "gnw1lRPVX87D"
   },
   "source": [
    "### KNN with best hyperparameters with data test"
   ]
  },
  {
   "cell_type": "code",
   "execution_count": 13,
   "metadata": {
    "id": "0-YUtXR7gEF-"
   },
   "outputs": [],
   "source": [
    "data_train_svd = svd(data_train, 200)\n",
    "data_test_svd = svd(data_test, 200)"
   ]
  },
  {
   "cell_type": "code",
   "execution_count": 14,
   "metadata": {
    "colab": {
     "base_uri": "https://localhost:8080/",
     "height": 51
    },
    "id": "xABGm2MWgJIT",
    "outputId": "250d0a19-a818-4fba-cad6-8d972c9408e2"
   },
   "outputs": [
    {
     "name": "stdout",
     "output_type": "stream",
     "text": [
      "0.841\n",
      "time cost 177.8353579044342 s\n"
     ]
    }
   ],
   "source": [
    "time_start = time.time()\n",
    " \n",
    "KNN = 6\n",
    "knn_svd_label_pred = np.zeros(len(data_test_svd))\n",
    "for i in range(len(data_test_svd)):\n",
    "    test_q = data_test_svd[i, :]\n",
    "    svd_result = knn(data_train_svd, label_train, KNN, test_q)\n",
    "    knn_svd_label_pred[i] = svd_result\n",
    "svd_accuracy = np.sum(label_test == knn_svd_label_pred) / len(data_test_svd)\n",
    "print(svd_accuracy)\n",
    "\n",
    "time_end=time.time()\n",
    "print('time cost',time_end-time_start,'s')"
   ]
  },
  {
   "cell_type": "markdown",
   "metadata": {
    "id": "IGxGP5E7hMhL"
   },
   "source": [
    "## Step 4. Get output"
   ]
  },
  {
   "cell_type": "markdown",
   "metadata": {
    "id": "FOo-MSmNhV7L"
   },
   "source": [
    "We choose KNN classifier with data after SVD."
   ]
  },
  {
   "cell_type": "code",
   "execution_count": 15,
   "metadata": {
    "id": "5m6-HOTdxevm"
   },
   "outputs": [],
   "source": [
    "with h5py.File('./Input/test/images_testing.h5','r') as H:\n",
    "    data_test_output = np.copy(H['datatest'])"
   ]
  },
  {
   "cell_type": "code",
   "execution_count": 16,
   "metadata": {
    "id": "2mShsLOBxs8C"
   },
   "outputs": [],
   "source": [
    "data_test_output_svd = svd(data_test_output, 200)"
   ]
  },
  {
   "cell_type": "code",
   "execution_count": 17,
   "metadata": {
    "id": "EnvmJezEyFEq"
   },
   "outputs": [],
   "source": [
    "knn_svd_label_pred = np.zeros(len(data_test_output_svd))\n",
    "for i in range(len(data_test_output_svd)):\n",
    "    test_q = data_test_output_svd[i, :]\n",
    "    svd_result = knn(data_train_svd, label_train, 6, test_q)\n",
    "    knn_svd_label_pred[i] = svd_result"
   ]
  },
  {
   "cell_type": "code",
   "execution_count": 18,
   "metadata": {
    "id": "Sb3w3XuBhnKy"
   },
   "outputs": [],
   "source": [
    "output = knn_svd_label_pred\n",
    "with h5py.File('./Output/predicted_labels.h5','w') as H:\n",
    "    H.create_dataset('Output',data=output)"
   ]
  },
  {
   "cell_type": "markdown",
   "metadata": {
    "id": "wAB92PjjaVQo"
   },
   "source": [
    "## Reference: Tuning hyerparameter"
   ]
  },
  {
   "cell_type": "markdown",
   "metadata": {
    "id": "y2K4gmB3aZ33"
   },
   "source": [
    "### KNN"
   ]
  },
  {
   "cell_type": "markdown",
   "metadata": {
    "id": "FOeWSs7Uad3v"
   },
   "source": [
    "#### process with original data"
   ]
  },
  {
   "cell_type": "code",
   "execution_count": null,
   "metadata": {
    "colab": {
     "base_uri": "https://localhost:8080/",
     "height": 68
    },
    "id": "uGqWWTbXSv2U",
    "outputId": "924bd048-a9ca-4733-b9fc-8808c26a8644"
   },
   "outputs": [
    {
     "name": "stdout",
     "output_type": "stream",
     "text": [
      "[0.83788889 0.84       0.83877778 0.83833333 0.83422222 0.83755556\n",
      " 0.83533333]\n",
      "time cost 3733.2494990825653 s\n"
     ]
    }
   ],
   "source": [
    "time_start = time.time()\n",
    " \n",
    "KNN = np.arange(3,10)\n",
    "ori_label_pred = np.zeros(len(data_validation_test))\n",
    "ori_accuracy = np.zeros(len(KNN))\n",
    "for k in KNN:\n",
    "    for i in range(len(data_validation_test)):\n",
    "        test_q = data_validation_test[i, :]\n",
    "        ori_result = knn(data_validation_train, label_validation_train, k, test_q)\n",
    "        ori_label_pred[i] = ori_result\n",
    "    ori_accuracy[k-3] = np.sum(label_validation_test == ori_label_pred) / len(data_validation_test)\n",
    "print(ori_accuracy)\n",
    "\n",
    "time_end=time.time()\n",
    "print('time cost',time_end-time_start,'s')"
   ]
  },
  {
   "cell_type": "code",
   "execution_count": null,
   "metadata": {
    "colab": {
     "base_uri": "https://localhost:8080/",
     "height": 295
    },
    "id": "uhjtTvZCSv2X",
    "outputId": "320146ee-5af1-440b-8581-a9191c1f2a15",
    "scrolled": false
   },
   "outputs": [
    {
     "data": {
      "image/png": "[encoded data removed]",
      "text/plain": [
       "<Figure size 432x288 with 1 Axes>"
      ]
     },
     "metadata": {
      "needs_background": "light",
      "tags": []
     },
     "output_type": "display_data"
    }
   ],
   "source": [
    "fig, ax = plt.subplots()\n",
    "ax.plot(KNN, ori_accuracy)\n",
    "ax.axvline(KNN[np.argmax(ori_accuracy)], c='m', linestyle='--', alpha=0.6)\n",
    "ax.set_xlabel('Number of Neighbors')\n",
    "ax.set_ylabel('Accuracy')\n",
    "ax.set_xticks(KNN)\n",
    "ax.set_title('Results with Original Image')\n",
    "plt.show()"
   ]
  },
  {
   "cell_type": "markdown",
   "metadata": {
    "id": "LHc9n5YvannK"
   },
   "source": [
    "Process with data test with K = 4"
   ]
  },
  {
   "cell_type": "code",
   "execution_count": 15,
   "metadata": {
    "colab": {
     "base_uri": "https://localhost:8080/",
     "height": 51
    },
    "id": "jTzWCxQoV19U",
    "outputId": "3fd763cd-d7ed-400a-980a-1f803b5260dc"
   },
   "outputs": [
    {
     "name": "stdout",
     "output_type": "stream",
     "text": [
      "0.837\n",
      "time cost 139.25075101852417 s\n"
     ]
    }
   ],
   "source": [
    "time_start = time.time()\n",
    " \n",
    "KNN = 4\n",
    "ori_label_pred = np.zeros(len(data_test))\n",
    "for i in range(len(data_test)):\n",
    "    test_q = data_test[i, :]\n",
    "    ori_result = knn(data_train, label_train, KNN, test_q)\n",
    "    ori_label_pred[i] = ori_result\n",
    "ori_accuracy = np.sum(label_test == ori_label_pred) / len(data_test)\n",
    "print(ori_accuracy)\n",
    "\n",
    "time_end=time.time()\n",
    "print('time cost',time_end-time_start,'s')"
   ]
  },
  {
   "cell_type": "markdown",
   "metadata": {
    "id": "zM3uvTNWa4sL"
   },
   "source": [
    "#### Process with PCA data"
   ]
  },
  {
   "cell_type": "code",
   "execution_count": null,
   "metadata": {
    "id": "lacCnF1ySv2a"
   },
   "outputs": [],
   "source": [
    "feature,data_validation_train_pca = pca(data_validation_train,784)\n",
    "data_validation_test_pca = np.dot(pca_test(data_validation_test,784),feature.T)"
   ]
  },
  {
   "cell_type": "code",
   "execution_count": null,
   "metadata": {
    "colab": {
     "base_uri": "https://localhost:8080/",
     "height": 68
    },
    "id": "Z0O94wCKMLa3",
    "outputId": "8b94accf-0ec4-4478-ca6c-6927dafcccad"
   },
   "outputs": [
    {
     "name": "stdout",
     "output_type": "stream",
     "text": [
      "[0.84644444 0.84477778 0.845      0.84588889 0.84255556 0.84455556\n",
      " 0.84188889]\n",
      "time cost 4323.5812792778015 s\n"
     ]
    }
   ],
   "source": [
    "time_start = time.time()\n",
    " \n",
    "KNN = np.arange(3,10)\n",
    "pca_label_pred = np.zeros(len(data_validation_test_pca))\n",
    "pca_accuracy = np.zeros(len(KNN))\n",
    "for k in KNN:\n",
    "    for i in range(len(data_validation_test_pca)):\n",
    "        test_q = data_validation_test_pca[i, :]\n",
    "        pca_result = knn(data_validation_train_pca, label_validation_train, k, test_q)\n",
    "        pca_label_pred[i] = pca_result\n",
    "    pca_accuracy[k-3] = np.sum(label_validation_test == pca_label_pred) / len(data_validation_test_pca)\n",
    "print(pca_accuracy)\n",
    "\n",
    "time_end=time.time()\n",
    "print('time cost',time_end-time_start,'s')"
   ]
  },
  {
   "cell_type": "code",
   "execution_count": null,
   "metadata": {
    "colab": {
     "base_uri": "https://localhost:8080/",
     "height": 295
    },
    "id": "iqMiKpWBCo3q",
    "outputId": "571aef21-8545-4d9a-e625-e4b0f3d0be52"
   },
   "outputs": [
    {
     "data": {
      "image/png": "[encoded data removed]",
      "text/plain": [
       "<Figure size 432x288 with 1 Axes>"
      ]
     },
     "metadata": {
      "needs_background": "light",
      "tags": []
     },
     "output_type": "display_data"
    }
   ],
   "source": [
    "fig, ax = plt.subplots()\n",
    "ax.plot(KNN, pca_accuracy)\n",
    "ax.axvline(KNN[np.argmax(pca_accuracy)], c='m', linestyle='--', alpha=0.6)\n",
    "ax.set_xlabel('Number of Neighbors')\n",
    "ax.set_ylabel('Accuracy')\n",
    "ax.set_xticks(KNN)\n",
    "ax.set_title('Results with PCA Image')\n",
    "plt.show()"
   ]
  },
  {
   "cell_type": "markdown",
   "metadata": {
    "id": "aKVQltTZbGH0"
   },
   "source": [
    "Process with PCA data test"
   ]
  },
  {
   "cell_type": "code",
   "execution_count": 46,
   "metadata": {
    "id": "LyXFzGpVYgAz"
   },
   "outputs": [],
   "source": [
    "feature,data_train_pca = pca(data_train,784)\n",
    "data_test_pca = np.dot(pca_test(data_test,784),feature.T)"
   ]
  },
  {
   "cell_type": "code",
   "execution_count": 47,
   "metadata": {
    "colab": {
     "base_uri": "https://localhost:8080/",
     "height": 51
    },
    "id": "2Xxoqqp-YgIN",
    "outputId": "1394e26a-4da6-4c7c-8b76-001345ab6333"
   },
   "outputs": [
    {
     "name": "stdout",
     "output_type": "stream",
     "text": [
      "0.8335\n",
      "time cost 141.37724661827087 s\n"
     ]
    }
   ],
   "source": [
    "time_start = time.time()\n",
    " \n",
    "KNN = 3\n",
    "pca_label_pred = np.zeros(len(data_test_pca))\n",
    "for i in range(len(data_test_pca)):\n",
    "    test_q = data_test_pca[i, :]\n",
    "    pca_result = knn(data_train_pca, label_train, KNN, test_q)\n",
    "    pca_label_pred[i] = pca_result\n",
    "pca_accuracy = np.sum(label_test == pca_label_pred) / len(data_test_pca)\n",
    "print(pca_accuracy)\n",
    "\n",
    "time_end=time.time()\n",
    "print('time cost',time_end-time_start,'s')"
   ]
  },
  {
   "cell_type": "markdown",
   "metadata": {
    "id": "M4Dl7uK-bORO"
   },
   "source": [
    "#### Process with SVD data"
   ]
  },
  {
   "cell_type": "code",
   "execution_count": 42,
   "metadata": {
    "id": "9A0vh4A8Sv2k"
   },
   "outputs": [],
   "source": [
    "data_validation_train_svd = svd(data_validation_train, 181)\n",
    "data_validation_test_svd = svd(data_validation_test, 181)"
   ]
  },
  {
   "cell_type": "code",
   "execution_count": null,
   "metadata": {
    "colab": {
     "base_uri": "https://localhost:8080/",
     "height": 187
    },
    "id": "1aqdJenASv2o",
    "outputId": "69ac7b38-634c-4eb4-dbaa-7d36f38528e8"
   },
   "outputs": [
    {
     "name": "stderr",
     "output_type": "stream",
     "text": [
      "100%|██████████| 9000/9000 [10:57<00:00, 13.68it/s]\n",
      "100%|██████████| 9000/9000 [11:00<00:00, 13.63it/s]\n",
      "100%|██████████| 9000/9000 [11:00<00:00, 13.62it/s]\n",
      "100%|██████████| 9000/9000 [10:58<00:00, 13.67it/s]\n",
      "100%|██████████| 9000/9000 [10:59<00:00, 13.64it/s]\n",
      "100%|██████████| 9000/9000 [10:59<00:00, 13.64it/s]\n",
      "100%|██████████| 9000/9000 [11:06<00:00, 13.50it/s]"
     ]
    },
    {
     "name": "stdout",
     "output_type": "stream",
     "text": [
      "[0.85088889 0.85466667 0.85411111 0.85588889 0.85233333 0.85322222\n",
      " 0.85333333]\n",
      "time cost 4623.3126356601715 s\n"
     ]
    },
    {
     "name": "stderr",
     "output_type": "stream",
     "text": [
      "\n"
     ]
    }
   ],
   "source": [
    "time_start = time.time()\n",
    " \n",
    "KNN = np.arange(3,10)\n",
    "svd_label_pred = np.zeros(len(data_validation_test_svd))\n",
    "svd_accuracy = np.zeros(len(KNN))\n",
    "for k in KNN:\n",
    "    for i in tqdm(range(len(data_validation_test_svd))):\n",
    "        test_q = data_validation_test_svd[i, :]\n",
    "        svd_result = knn(data_validation_train_svd, label_validation_train, k, test_q)\n",
    "        svd_label_pred[i] = svd_result\n",
    "    svd_accuracy[k-3] = np.sum(label_validation_test == svd_label_pred) / len(data_validation_test_svd)\n",
    "print(svd_accuracy)\n",
    "\n",
    "time_end=time.time()\n",
    "print('time cost',time_end-time_start,'s')"
   ]
  },
  {
   "cell_type": "code",
   "execution_count": null,
   "metadata": {
    "colab": {
     "base_uri": "https://localhost:8080/",
     "height": 295
    },
    "id": "dJcyfaOK1b9F",
    "outputId": "1f6768a0-6776-466d-fed0-7c6c8888861a"
   },
   "outputs": [
    {
     "data": {
      "image/png": "[encoded data removed]",
      "text/plain": [
       "<Figure size 432x288 with 1 Axes>"
      ]
     },
     "metadata": {
      "needs_background": "light",
      "tags": []
     },
     "output_type": "display_data"
    }
   ],
   "source": [
    "fig, ax = plt.subplots()\n",
    "ax.plot(KNN, svd_accuracy)\n",
    "ax.axvline(KNN[np.argmax(svd_accuracy)], c='m', linestyle='--', alpha=0.6)\n",
    "ax.set_xlabel('Number of Neighbors')\n",
    "ax.set_ylabel('Accuracy')\n",
    "ax.set_xticks(KNN)\n",
    "ax.set_title('Results with SVD Image')\n",
    "plt.show()"
   ]
  },
  {
   "cell_type": "markdown",
   "metadata": {
    "id": "sMUDQ2nebgpv"
   },
   "source": [
    "Process with SVD data test"
   ]
  },
  {
   "cell_type": "code",
   "execution_count": 43,
   "metadata": {
    "id": "5CrIOvFYZG_7"
   },
   "outputs": [],
   "source": [
    "data_train_svd = svd(data_train, 181)\n",
    "data_test_svd = svd(data_test, 181)"
   ]
  },
  {
   "cell_type": "code",
   "execution_count": 44,
   "metadata": {
    "colab": {
     "base_uri": "https://localhost:8080/",
     "height": 51
    },
    "id": "NKAXUoXOZHWR",
    "outputId": "905bcfdf-4a95-4446-9a61-cc2ea8c879e0"
   },
   "outputs": [
    {
     "name": "stdout",
     "output_type": "stream",
     "text": [
      "0.841\n",
      "time cost 149.11343431472778 s\n"
     ]
    }
   ],
   "source": [
    "time_start = time.time()\n",
    " \n",
    "KNN = 6\n",
    "svd_label_pred = np.zeros(len(data_test_svd))\n",
    "for i in range(len(data_test_svd)):\n",
    "    test_q = data_test_svd[i, :]\n",
    "    svd_result = knn(data_train_svd, label_train, KNN, test_q)\n",
    "    svd_label_pred[i] = svd_result\n",
    "svd_accuracy = np.sum(label_test == svd_label_pred) / len(data_test_svd)\n",
    "print(svd_accuracy)\n",
    "\n",
    "time_end=time.time()\n",
    "print('time cost',time_end-time_start,'s')"
   ]
  },
  {
   "cell_type": "markdown",
   "metadata": {
    "id": "d1qilNMabphR"
   },
   "source": [
    "#### Process with normalization data"
   ]
  },
  {
   "cell_type": "code",
   "execution_count": null,
   "metadata": {
    "id": "GNHLbLSdlNzK"
   },
   "outputs": [],
   "source": [
    "data_validation_train_normalize = normalize(data_validation_train)\n",
    "data_validation_test_normalize = normalize(data_validation_test)"
   ]
  },
  {
   "cell_type": "code",
   "execution_count": null,
   "metadata": {
    "colab": {
     "base_uri": "https://localhost:8080/",
     "height": 187
    },
    "id": "kySVx3t2lm7f",
    "outputId": "6ee647c9-a156-4d17-f9fb-80719880940c"
   },
   "outputs": [
    {
     "name": "stderr",
     "output_type": "stream",
     "text": [
      "100%|██████████| 9000/9000 [07:24<00:00, 20.27it/s]\n",
      "100%|██████████| 9000/9000 [07:21<00:00, 20.37it/s]\n",
      "100%|██████████| 9000/9000 [07:21<00:00, 20.40it/s]\n",
      "100%|██████████| 9000/9000 [07:21<00:00, 20.40it/s]\n",
      "100%|██████████| 9000/9000 [07:21<00:00, 20.38it/s]\n",
      "100%|██████████| 9000/9000 [07:21<00:00, 20.39it/s]\n",
      "100%|██████████| 9000/9000 [07:23<00:00, 20.29it/s]"
     ]
    },
    {
     "name": "stdout",
     "output_type": "stream",
     "text": [
      "[0.84188889 0.84288889 0.83922222 0.84311111 0.84233333 0.84144444\n",
      " 0.83977778]\n",
      "time cost 3095.0357427597046 s\n"
     ]
    },
    {
     "name": "stderr",
     "output_type": "stream",
     "text": [
      "\n"
     ]
    }
   ],
   "source": [
    "time_start = time.time()\n",
    " \n",
    "KNN = np.arange(3,10)\n",
    "nor_label_pred = np.zeros(len(data_validation_test_normalize))\n",
    "nor_accuracy = np.zeros(len(KNN))\n",
    "for k in KNN:\n",
    "    for i in tqdm(range(len(data_validation_test_normalize))):\n",
    "        test_q = data_validation_test_normalize[i, :]\n",
    "        nor_result = knn(data_validation_train_normalize, label_validation_train, k, test_q)\n",
    "        nor_label_pred[i] = nor_result\n",
    "    nor_accuracy[k-3] = np.sum(label_validation_test == nor_label_pred) / len(data_validation_test_normalize)\n",
    "print(nor_accuracy)\n",
    "\n",
    "time_end=time.time()\n",
    "print('time cost',time_end-time_start,'s')"
   ]
  },
  {
   "cell_type": "code",
   "execution_count": null,
   "metadata": {
    "colab": {
     "base_uri": "https://localhost:8080/",
     "height": 295
    },
    "id": "4rPz7Rq-mAUV",
    "outputId": "b49c59c5-f0d1-4da2-f71e-1d5621c80ccc"
   },
   "outputs": [
    {
     "data": {
      "image/png": "[encoded data removed]",
      "text/plain": [
       "<Figure size 432x288 with 1 Axes>"
      ]
     },
     "metadata": {
      "needs_background": "light",
      "tags": []
     },
     "output_type": "display_data"
    }
   ],
   "source": [
    "fig, ax = plt.subplots()\n",
    "ax.plot(KNN, nor_accuracy)\n",
    "ax.axvline(KNN[np.argmax(nor_accuracy)], c='m', linestyle='--', alpha=0.6)\n",
    "ax.set_xlabel('Number of Neighbors')\n",
    "ax.set_ylabel('Accuracy')\n",
    "ax.set_xticks(KNN)\n",
    "ax.set_title('Results with SVD Image')\n",
    "plt.show()"
   ]
  },
  {
   "cell_type": "markdown",
   "metadata": {
    "id": "MXoVcWXzbzdh"
   },
   "source": [
    "Process with normalization data test"
   ]
  },
  {
   "cell_type": "code",
   "execution_count": null,
   "metadata": {
    "id": "USkWZ6X-mWTy"
   },
   "outputs": [],
   "source": [
    "data_train_normalize = normalize(data_train)\n",
    "data_test_normalize = normalize(data_test)"
   ]
  },
  {
   "cell_type": "code",
   "execution_count": null,
   "metadata": {
    "colab": {
     "base_uri": "https://localhost:8080/",
     "height": 51
    },
    "id": "ETNAsJLUmcze",
    "outputId": "6cd34b01-5801-4041-a7d9-84ac390a6dc3"
   },
   "outputs": [
    {
     "name": "stdout",
     "output_type": "stream",
     "text": [
      "0.833\n",
      "time cost 137.17207956314087 s\n"
     ]
    }
   ],
   "source": [
    "time_start = time.time()\n",
    " \n",
    "KNN = 6\n",
    "nor_label_pred = np.zeros(len(data_test_normalize))\n",
    "for i in range(len(data_test_normalize)):\n",
    "    test_q = data_test_normalize[i, :]\n",
    "    nor_result = knn(data_train_normalize, label_train, KNN, test_q)\n",
    "    nor_label_pred[i] = nor_result\n",
    "nor_accuracy = np.sum(label_test == nor_label_pred) / len(data_test_normalize)\n",
    "print(nor_accuracy)\n",
    "\n",
    "time_end=time.time()\n",
    "print('time cost',time_end-time_start,'s')"
   ]
  },
  {
   "cell_type": "markdown",
   "metadata": {
    "id": "aWNsOP8Hb_n-"
   },
   "source": [
    "### Naive Bayes"
   ]
  },
  {
   "cell_type": "markdown",
   "metadata": {
    "id": "FLzm109gcYB_"
   },
   "source": [
    "#### Process with original data"
   ]
  },
  {
   "cell_type": "code",
   "execution_count": 19,
   "metadata": {
    "colab": {
     "base_uri": "https://localhost:8080/",
     "height": 51
    },
    "id": "gqTSovleVGLH",
    "outputId": "c63dfdb3-a191-4f0a-ac5d-7d52cbc329cb"
   },
   "outputs": [
    {
     "name": "stdout",
     "output_type": "stream",
     "text": [
      "0.6683333333333333\n",
      "time cost 0.4734783172607422 s\n"
     ]
    }
   ],
   "source": [
    "nb = NaiveBayes()\n",
    "\n",
    "time_start = time.time()\n",
    "min = nb.find_min(data_validation_train)\n",
    "ori_result = nb.predict(data_validation_train , label_validation_train,data_validation_test )\n",
    "ori_accuracy = np.sum(label_validation_test == ori_result) / len(data_validation_test)\n",
    "print(ori_accuracy)\n",
    "\n",
    "time_end=time.time()\n",
    "print('time cost',time_end-time_start,'s')"
   ]
  },
  {
   "cell_type": "markdown",
   "metadata": {
    "id": "SKtxf2SIcbqk"
   },
   "source": [
    "Process with data test"
   ]
  },
  {
   "cell_type": "code",
   "execution_count": 20,
   "metadata": {
    "colab": {
     "base_uri": "https://localhost:8080/",
     "height": 51
    },
    "id": "fO5gfCE3nPay",
    "outputId": "2d320a05-f49d-48cc-f7c9-7f2dc4a43325"
   },
   "outputs": [
    {
     "name": "stdout",
     "output_type": "stream",
     "text": [
      "0.6635\n",
      "time cost 0.33376002311706543 s\n"
     ]
    }
   ],
   "source": [
    "nb = NaiveBayes()\n",
    "\n",
    "time_start = time.time()\n",
    "min = nb.find_min(data_train)\n",
    "ori_result = nb.predict(data_train , label_train,data_test )\n",
    "ori_accuracy = np.sum(label_test == ori_result) / len(data_test)\n",
    "print(ori_accuracy)\n",
    "\n",
    "time_end=time.time()\n",
    "print('time cost',time_end-time_start,'s')"
   ]
  },
  {
   "cell_type": "markdown",
   "metadata": {
    "id": "xNngg9g-cenv"
   },
   "source": [
    "#### Process with PCA data"
   ]
  },
  {
   "cell_type": "code",
   "execution_count": 26,
   "metadata": {
    "id": "eqb6iQrBoFGh"
   },
   "outputs": [],
   "source": [
    "feature,data_validation_train_pca = pca(data_validation_train,784)\n",
    "data_validation_test_pca = np.dot(pca_test(data_validation_test,784),feature.T)"
   ]
  },
  {
   "cell_type": "code",
   "execution_count": 27,
   "metadata": {
    "colab": {
     "base_uri": "https://localhost:8080/",
     "height": 51
    },
    "id": "S4xyXIKXn788",
    "outputId": "ed6caee2-1951-4c49-a611-f7986dc1a1a4"
   },
   "outputs": [
    {
     "name": "stdout",
     "output_type": "stream",
     "text": [
      "0.6265555555555555\n",
      "time cost 0.466672420501709 s\n"
     ]
    }
   ],
   "source": [
    "nb = NaiveBayes()\n",
    "\n",
    "time_start = time.time()\n",
    "min = nb.find_min(data_validation_train_pca)\n",
    "ori_result = nb.predict(data_validation_train_pca , label_validation_train,data_validation_test_pca )\n",
    "ori_accuracy = np.sum(label_validation_test == ori_result) / len(data_validation_test_pca)\n",
    "print(ori_accuracy)\n",
    "\n",
    "time_end=time.time()\n",
    "print('time cost',time_end-time_start,'s')"
   ]
  },
  {
   "cell_type": "markdown",
   "metadata": {
    "id": "KcyDAvY7ch1Y"
   },
   "source": [
    "Process with PCA data test"
   ]
  },
  {
   "cell_type": "code",
   "execution_count": 28,
   "metadata": {
    "id": "Xk935eT_odEj"
   },
   "outputs": [],
   "source": [
    "feature,data_train_pca = pca(data_train,784)\n",
    "data_test_pca = np.dot(pca_test(data_test,784),feature.T)"
   ]
  },
  {
   "cell_type": "code",
   "execution_count": 29,
   "metadata": {
    "colab": {
     "base_uri": "https://localhost:8080/",
     "height": 51
    },
    "id": "4k-w80vioQRB",
    "outputId": "53e1dbbc-d97b-4cfe-c6e5-f95c3859ee92"
   },
   "outputs": [
    {
     "name": "stdout",
     "output_type": "stream",
     "text": [
      "0.5375\n",
      "time cost 0.34344911575317383 s\n"
     ]
    }
   ],
   "source": [
    "nb = NaiveBayes()\n",
    "time_start = time.time()\n",
    "min = nb.find_min(data_train_pca)\n",
    "pca_result = nb.predict(data_train_pca, label_train, data_test_pca)\n",
    "pca_accuracy = np.sum(label_test == pca_result) / len(data_test_pca)\n",
    "print(pca_accuracy)\n",
    "\n",
    "time_end=time.time()\n",
    "print('time cost',time_end-time_start,'s')"
   ]
  },
  {
   "cell_type": "markdown",
   "metadata": {
    "id": "XmbdhEt2clty"
   },
   "source": [
    "#### Process with SVD data"
   ]
  },
  {
   "cell_type": "code",
   "execution_count": 30,
   "metadata": {
    "id": "xqltHgy3otz-"
   },
   "outputs": [],
   "source": [
    "data_validation_train_svd = svd(data_validation_train, 196)\n",
    "data_validation_test_svd = svd(data_validation_test, 196)"
   ]
  },
  {
   "cell_type": "code",
   "execution_count": 31,
   "metadata": {
    "colab": {
     "base_uri": "https://localhost:8080/",
     "height": 51
    },
    "id": "SOHvac7TozWk",
    "outputId": "742aa273-6365-47f4-f0b4-014d677af389"
   },
   "outputs": [
    {
     "name": "stdout",
     "output_type": "stream",
     "text": [
      "0.6044444444444445\n",
      "time cost 0.47121143341064453 s\n"
     ]
    }
   ],
   "source": [
    "nb = NaiveBayes()\n",
    "time_start = time.time()\n",
    "min = nb.find_min(data_validation_train_svd)\n",
    "svd_result = nb.predict(data_validation_train_svd, label_validation_train, data_validation_test_svd)\n",
    "svd_accuracy = np.sum(label_validation_test == svd_result) / len(data_validation_test_svd)\n",
    "print(svd_accuracy)\n",
    "\n",
    "time_end=time.time()\n",
    "print('time cost',time_end-time_start,'s')"
   ]
  },
  {
   "cell_type": "markdown",
   "metadata": {
    "id": "zrnPX2D8coED"
   },
   "source": [
    "Process with SVD data test"
   ]
  },
  {
   "cell_type": "code",
   "execution_count": 32,
   "metadata": {
    "id": "_GGnqP4gpB0p"
   },
   "outputs": [],
   "source": [
    "data_train_svd = svd(data_train, 196)\n",
    "data_test_svd = svd(data_test, 196)"
   ]
  },
  {
   "cell_type": "code",
   "execution_count": 33,
   "metadata": {
    "colab": {
     "base_uri": "https://localhost:8080/",
     "height": 51
    },
    "id": "lVpP3JCRpImd",
    "outputId": "904b4e74-ecbf-4e74-8e06-0786958038e0"
   },
   "outputs": [
    {
     "name": "stdout",
     "output_type": "stream",
     "text": [
      "0.6305\n",
      "time cost 0.3285486698150635 s\n"
     ]
    }
   ],
   "source": [
    "nb = NaiveBayes()\n",
    "time_start = time.time()\n",
    "min = nb.find_min(data_train_svd)\n",
    "svd_result = nb.predict(data_train_svd, label_train, data_test_svd)\n",
    "svd_accuracy = np.sum(label_test == svd_result) / len(data_test_svd)\n",
    "print(svd_accuracy)\n",
    "\n",
    "time_end=time.time()\n",
    "print('time cost',time_end-time_start,'s')"
   ]
  },
  {
   "cell_type": "markdown",
   "metadata": {
    "id": "gv6tZbibcqfD"
   },
   "source": [
    "#### Process with nornalization data"
   ]
  },
  {
   "cell_type": "code",
   "execution_count": 37,
   "metadata": {
    "id": "dArJAZZZpbU5"
   },
   "outputs": [],
   "source": [
    "data_validation_train_normalize = normalize(data_validation_train)\n",
    "data_validation_test_normalize = normalize(data_validation_test)"
   ]
  },
  {
   "cell_type": "code",
   "execution_count": 41,
   "metadata": {
    "colab": {
     "base_uri": "https://localhost:8080/",
     "height": 51
    },
    "id": "SRXmZ0Rnd4AT",
    "outputId": "6b68d141-eefb-403f-8b94-99c752418396"
   },
   "outputs": [
    {
     "name": "stdout",
     "output_type": "stream",
     "text": [
      "0.6683333333333333\n",
      "time cost 0.45896005630493164 s\n"
     ]
    }
   ],
   "source": [
    "nb = NaiveBayes()\n",
    "time_start = time.time()\n",
    "min = nb.find_min(data_validation_train_normalize)\n",
    "nor_result = nb.predict(data_validation_train_normalize, label_validation_train, data_validation_test_normalize)\n",
    "nor_accuracy = np.sum(label_validation_test == nor_result) / len(data_validation_test_normalize)\n",
    "print(nor_accuracy)\n",
    "\n",
    "time_end=time.time()\n",
    "print('time cost',time_end-time_start,'s')"
   ]
  },
  {
   "cell_type": "markdown",
   "metadata": {
    "id": "kwL1hgL2csz1"
   },
   "source": [
    "Process with normalization data test"
   ]
  },
  {
   "cell_type": "code",
   "execution_count": 39,
   "metadata": {
    "id": "8CKyP9NbpcNu"
   },
   "outputs": [],
   "source": [
    "data_train_normalize = normalize(data_train)\n",
    "data_test_normalize = normalize(data_test)"
   ]
  },
  {
   "cell_type": "code",
   "execution_count": 40,
   "metadata": {
    "colab": {
     "base_uri": "https://localhost:8080/",
     "height": 51
    },
    "id": "3jG5Ba4ppwQU",
    "outputId": "1440794e-4590-4fa0-dd84-6749134140dd"
   },
   "outputs": [
    {
     "name": "stdout",
     "output_type": "stream",
     "text": [
      "0.6635\n",
      "time cost 0.33322763442993164 s\n"
     ]
    }
   ],
   "source": [
    "nb = NaiveBayes()\n",
    "time_start = time.time()\n",
    "min = nb.find_min(data_train_normalize)\n",
    "nor_result = nb.predict(data_train_normalize, label_train, data_test_normalize)\n",
    "nor_accuracy = np.sum(label_test == nor_result) / len(data_test_normalize)\n",
    "print(nor_accuracy)\n",
    "\n",
    "time_end=time.time()\n",
    "print('time cost',time_end-time_start,'s')"
   ]
  }
 ],
 "metadata": {
  "colab": {
   "name": "5318final.ipynb",
   "provenance": []
  },
  "kernelspec": {
   "display_name": "Python 3",
   "language": "python",
   "name": "python3"
  },
  "language_info": {
   "codemirror_mode": {
    "name": "ipython",
    "version": 3
   },
   "file_extension": ".py",
   "mimetype": "text/x-python",
   "name": "python",
   "nbconvert_exporter": "python",
   "pygments_lexer": "ipython3",
   "version": "3.7.4"
  }
 },
 "nbformat": 4,
 "nbformat_minor": 1
}
